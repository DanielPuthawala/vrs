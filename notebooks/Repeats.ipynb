{
 "cells": [
  {
   "cell_type": "markdown",
   "metadata": {},
   "source": [
    "# Repeats\n",
    "Repeats repesent tandem copies of a sequence of any length (length >= 1). In VRS, they are an assertion of state and not necessarily a change with respect to the reference sequence.\n",
    "\n",
    "Repeats are implemented using the Allele class with a RepeatState applied to a Location. The RepeatState conveys both the repeat count and the repeat sequence.\n",
    "\n",
    "The number of copies may be known precisely, or may be specified as a range (min, max), which is essential for certain applications (e.g., Huntington's disease CAG repeat sizes).\n",
    "\n",
    "The repeat sequence may be verbatim or a derived/approximated sequence.\n",
    "\n",
    "For a precise repeat length with a fixed sequence, Repeats are equivalent to Alleles with a single SequenceState.\n",
    "\n",
    "Repeats should be used only when copies are known to be tandem; if the location of repeats is unknown or genome-wide, Abundance should be used. "
   ]
  },
  {
   "cell_type": "markdown",
   "metadata": {},
   "source": [
    "## Notes\n",
    "\n",
    "## Q & A\n",
    "\n",
    "### What is the location of a repeat?\n",
    "\n",
    "* Option 1: Location of first repeat unit.\n",
    "* Option 2: Zero-width position immediately before first repeat unit.\n",
    "\n",
    "\n",
    "### How to differentiate exact v. approximate repeats v. sized repeats?\n",
    "### How to differentiate repeat sources ?\n",
    "\n",
    "* Literal Sequence (string, as with SequenceState now)\n",
    "* Sequence from SequenceLocation\n",
    "* Approximate Sequence\n",
    "* Sized Sequence: length/length range, w/ modulus\n",
    "\n",
    "```\n",
    "RepeatState(\n",
    "  copies={...},\n",
    "  sequence=\n",
    "  \n",
    "    # door 1:\n",
    "    * literal sequence (\"CAG\")\n",
    "    * location\n",
    "    * sequence_id\n",
    "    * ApproximateSequence(sequence=literal or location or sequence_id)\n",
    "\n",
    "    # door 2:\n",
    "    * DerivedSequence(source=(literal or sequence id or SequenceLocation),\n",
    "      qualifier=(exact, approximate, ...)\n",
    "    \n",
    "    # door 3:\n",
    "    * DerivedSequence(source=sequencelocation)\n",
    "    * ApproximateSequence(sequence=(...))\n",
    "    \n",
    "    AS(DS(...))\n",
    " \n",
    "    door 3 pro: clearer semantics of intermediate objects\n",
    "    \n",
    "    # door 4: do it with jsonschema composition\n",
    "    * GeneralizedSequence := (literal | location | sequence_id)\n",
    " \n",
    "  )\n",
    "```\n",
    "\n",
    "### What about digest?\n",
    "\n",
    "In VRS, the digest is always a digest of the data structure.  If the implied sequence is well-defined, it the repeat must be converted to an equivalent SequenceState Allele. \n",
    "\n",
    "###  Is 0 a valid repeat count?\n",
    "\n",
    "If Yes, isn't this the same as a del? If No, what are the implications for searching? (e.g., \"sequences with 3 or fewer repeats\" should probably include zero repeats)\n",
    "\n",
    "###  Can a SequenceLocation be used as a Sequence?\n"
   ]
  },
  {
   "cell_type": "code",
   "execution_count": 1,
   "metadata": {},
   "outputs": [],
   "source": [
    "from ga4gh.core import ga4gh_identify, ga4gh_serialize\n",
    "from ga4gh.vrs import models\n",
    "from nbsupport import ppo, translate_sequence_identifier"
   ]
  },
  {
   "cell_type": "markdown",
   "metadata": {},
   "source": [
    "## RepeatState"
   ]
  },
  {
   "cell_type": "code",
   "execution_count": 2,
   "metadata": {},
   "outputs": [
    {
     "data": {
      "text/plain": [
       "{'copies': {'max': 10, 'min': 5}, 'sequence': 'CAG', 'type': 'RepeatState'}"
      ]
     },
     "execution_count": 2,
     "metadata": {},
     "output_type": "execute_result"
    }
   ],
   "source": [
    "models.RepeatState(\n",
    "    sequence=\"CAG\",\n",
    "    copies={\"min\": 5, \"max\": 10}).as_dict()"
   ]
  },
  {
   "cell_type": "code",
   "execution_count": 3,
   "metadata": {},
   "outputs": [
    {
     "data": {
      "text/plain": [
       "{'copies': {'max': 10, 'min': 5},\n",
       " 'sequence': {'interval': {'end': 30, 'start': 20, 'type': 'SimpleInterval'},\n",
       "  'sequence_id': 'ga4gh:SQ.abc123',\n",
       "  'type': 'SequenceLocation'},\n",
       " 'type': 'RepeatState'}"
      ]
     },
     "execution_count": 3,
     "metadata": {},
     "output_type": "execute_result"
    }
   ],
   "source": [
    "sl = models.SequenceLocation(\n",
    "    sequence_id=\"ga4gh:SQ.abc123\",\n",
    "    interval=models.SimpleInterval(start=20, end=30))\n",
    "rs = models.RepeatState(sequence=sl, copies={\"min\": 5, \"max\": 10})\n",
    "rs.as_dict()"
   ]
  },
  {
   "cell_type": "code",
   "execution_count": 8,
   "metadata": {},
   "outputs": [
    {
     "data": {
      "text/plain": [
       "{'copies': {'max': 10, 'min': 5},\n",
       " 'sequence': {'regexp': 'C[AC]G'},\n",
       " 'type': 'RepeatState'}"
      ]
     },
     "execution_count": 8,
     "metadata": {},
     "output_type": "execute_result"
    }
   ],
   "source": [
    "rs = models.RepeatState(\n",
    "    sequence=models.RegularExpression(regexp=\"C[AC]G\"),\n",
    "    copies={\"min\": 5, \"max\": 10})\n",
    "rs.as_dict()"
   ]
  },
  {
   "cell_type": "code",
   "execution_count": 12,
   "metadata": {},
   "outputs": [
    {
     "data": {
      "text/plain": [
       "{'copies': {'max': 10, 'min': 5},\n",
       " 'sequence': {'min': 3, 'modulus': 1},\n",
       " 'type': 'RepeatState'}"
      ]
     },
     "execution_count": 12,
     "metadata": {},
     "output_type": "execute_result"
    }
   ],
   "source": [
    "rs = models.RepeatState(\n",
    "    sequence=models.SizedSequence(min=3),\n",
    "    copies={\"min\": 5, \"max\": 10})\n",
    "rs.as_dict()"
   ]
  }
 ],
 "metadata": {
  "kernelspec": {
   "display_name": "Python 3",
   "language": "python",
   "name": "python3"
  },
  "language_info": {
   "codemirror_mode": {
    "name": "ipython",
    "version": 3
   },
   "file_extension": ".py",
   "mimetype": "text/x-python",
   "name": "python",
   "nbconvert_exporter": "python",
   "pygments_lexer": "ipython3",
   "version": "3.8.5"
  },
  "toc": {
   "base_numbering": 1,
   "nav_menu": {},
   "number_sections": false,
   "sideBar": true,
   "skip_h1_title": false,
   "title_cell": "Table of Contents",
   "title_sidebar": "Contents",
   "toc_cell": false,
   "toc_position": {},
   "toc_section_display": true,
   "toc_window_display": true
  }
 },
 "nbformat": 4,
 "nbformat_minor": 4
}
