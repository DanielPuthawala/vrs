{
 "cells": [
  {
   "cell_type": "markdown",
   "metadata": {},
   "source": [
    "This notebook demonstrates new features in the develop branch of vr-spec. The primary new features are Repeats and Abundance, and secondary classes that enable their use in representing common variation that involves the duplication of sequence.\n",
    "\n",
    "The corresponding schema (currently) exists only in the vr-spec develop branch. It also requires an up-to-date vrs-python package.\n",
    "\n",
    "**Models in this notebook are under development. They are likely to change before release and may not ever be released.  Don't use them yet.** "
   ]
  },
  {
   "cell_type": "code",
   "execution_count": 1,
   "metadata": {},
   "outputs": [],
   "source": [
    "from ga4gh.core import ga4gh_identify, ga4gh_serialize\n",
    "from ga4gh.vrs import models, vrs_enref, vrs_deref\n",
    "from nbsupport import ppo, translate_sequence_identifier\n",
    "\n",
    "# from ga4gh.vrs._internal.models import _load_vrs_models # for testing"
   ]
  },
  {
   "cell_type": "markdown",
   "metadata": {},
   "source": [
    "# New Features"
   ]
  },
  {
   "cell_type": "markdown",
   "metadata": {
    "hidden": true
   },
   "source": [
    "## NestedInterval (Not Identfiable)\n",
    "\n",
    "The NestedInterval class is intended to capture regions where the start and end coordinates are uncertain. For example, a deletion of an entire exon may occur anywhere 5' of the left intron-exon boundry and 3' of the right exon-intron boundary. \n",
    "\n",
    "NestedIntervals are modeled as a pair of `inner` and `outer` ranges, each of which is a SimpleInterval.  A `start` and `end` are consistent with a NestedInterval if they meet these criteria: `outer.start <= start <= inner.start <= inner.end <= end <= outer.end`.\n",
    "\n",
    "NestedIntervals are conceptualy related to, and interchangeable with, intervals of intervals (i.e., start and end, each of which is defined by an interval).\n",
    "\n",
    "Converting HGVS expressions to NestedIntervals requires care. Imagine this sequence with an exon (or any feature) at base positions 4-6 inclusive and sequence DEF.\n",
    "\n",
    "```\n",
    "base:     1   2   3   4   5   6   7   8   9\n",
    "          a   b   c [ D   E   F ] g   h   i\n",
    "i-base:  0  1   2   3   4   5   6   7   8   9\n",
    "\n",
    "```\n",
    "\n",
    "HGVS for the region to the left and right (abc, ghi) would be `(1_3)_(7_9)`, corresponding to interbase ranges (0,3) and (6,9). As a nested interval, the range becomes inner=(3,6) and outer=(0,9)."
   ]
  },
  {
   "cell_type": "code",
   "execution_count": 4,
   "metadata": {
    "hidden": true
   },
   "outputs": [
    {
     "data": {
      "text/plain": [
       "{'inner': {'end': 30, 'start': 20, 'type': 'SimpleInterval'},\n",
       " 'outer': {'end': 40, 'start': 10, 'type': 'SimpleInterval'},\n",
       " 'type': 'NestedInterval'}"
      ]
     },
     "execution_count": 4,
     "metadata": {},
     "output_type": "execute_result"
    }
   ],
   "source": [
    "ni = models.NestedInterval(\n",
    "    inner = models.SimpleInterval(start=20, end=30),\n",
    "    outer = models.SimpleInterval(start=10, end=40))\n",
    "ni.as_dict()"
   ]
  },
  {
   "cell_type": "code",
   "execution_count": 5,
   "metadata": {
    "code_folding": [],
    "hidden": true,
    "scrolled": true
   },
   "outputs": [
    {
     "data": {
      "text/plain": [
       "{'interval': {'inner': {'end': 30, 'start': 20, 'type': 'SimpleInterval'},\n",
       "  'outer': {'end': 40, 'start': 10, 'type': 'SimpleInterval'},\n",
       "  'type': 'NestedInterval'},\n",
       " 'sequence_id': 'ga4gh:SQ.0123abcd',\n",
       " 'type': 'SequenceLocation'}"
      ]
     },
     "execution_count": 5,
     "metadata": {},
     "output_type": "execute_result"
    }
   ],
   "source": [
    "sl = models.SequenceLocation(\n",
    "    sequence_id = \"ga4gh:SQ.0123abcd\",\n",
    "    interval = ni)\n",
    "sl.as_dict()"
   ]
  },
  {
   "cell_type": "markdown",
   "metadata": {},
   "source": [
    "## Gene (Not Identfiable)\n",
    "\n",
    "Use case: Provide a mechanism to refer to an entire gene to use as the subject of a repeat or abundance statement. For example, \"PTEN del\".\n",
    "\n",
    "Issue: Genes themselves are not locations. \"GeneLocation\" might do it, but it doesn't follow the existing pattern of XLocation, where X is something that can be interpreted as a coordinate system. For example, SequenceLocation is a location on a Sequence; ChromosomeLocation is a location on a Chromosome (but not on a particular chromosome sequence). Without a GeneLocation concept, it is hard to see how VRS could represent knowledge like \"EGFR, 3 copies\".\n",
    "\n",
    "Genes are intended to be used to represent systemic variation, not molecular variation."
   ]
  },
  {
   "cell_type": "code",
   "execution_count": 4,
   "metadata": {},
   "outputs": [
    {
     "data": {
      "text/plain": [
       "{'gene_id': 'ncbigene:1234', 'type': 'Gene'}"
      ]
     },
     "execution_count": 4,
     "metadata": {},
     "output_type": "execute_result"
    }
   ],
   "source": [
    "g = models.Gene(gene_id=\"ncbigene:1234\")\n",
    "g.as_dict()"
   ]
  },
  {
   "cell_type": "markdown",
   "metadata": {},
   "source": [
    "## ★ Sequence States (Not Identfiable)\n",
    "\n",
    "A Sequence State is the root of class of ways to describe a sequence, including sequences that are inferred from locations, trasformed by reverse and/or complement operations. Future extensions may provide metods to describe approximate sequence matching (other than by IUPAC ambiguity codes) or sized sequences.\n",
    "\n",
    "The sequence that is inserted and repeated (and deleted?) might be expressed in a variety of ways: \n",
    "\n",
    "* Literal sequences\n",
    "* Exact sequence from a sequence location\n",
    "\n",
    "Future possibilities:\n",
    "\n",
    "* Inexact sequence from a sequence location\n",
    "* Inverted\n",
    "* Sequence ambiguity (either by regexp or IUPAC ambiguity codes)\n",
    "* Matched by sequence size\n",
    "\n",
    "Expressions fall into a few categories:\n",
    "* Countable, Unary -- expressions that generate only one sequence. Examples: Literal, Inferred, Inverted (w/no ambiguity codes)\n",
    "* Countable, non-unary -- expressions that generate more than one sequence. Examples: Literal, regexp (w/ambiguity codes)\n",
    "* Uncountable -- expressions generate an infinite number of sequences (e.g., \"size > 5 nt\").\n",
    "\n",
    "This is relevant to VRS because we *may* want to describe or constrain when certain types should be used.\n",
    "\n",
    "Because unary sequences refer to a specific sequence, they may be used to impute a derived sequence. In contrast, the non-unary and uncountable expressions generate a family of sequences."
   ]
  },
  {
   "cell_type": "markdown",
   "metadata": {},
   "source": [
    "### LiteralSequence"
   ]
  },
  {
   "cell_type": "code",
   "execution_count": 5,
   "metadata": {},
   "outputs": [
    {
     "data": {
      "text/plain": [
       "{'sequence': 'ACGT', 'type': 'LiteralSequence'}"
      ]
     },
     "execution_count": 5,
     "metadata": {},
     "output_type": "execute_result"
    }
   ],
   "source": [
    "ls = models.LiteralSequence(sequence=\"ACGT\")\n",
    "ls.as_dict()"
   ]
  },
  {
   "cell_type": "markdown",
   "metadata": {},
   "source": [
    "### DerivedSequence\n",
    "is a sequence derived from a location. In this example, the location is a range, which feels nonsensical. The spec probably wants to require a precise sequence (which needs definition)."
   ]
  },
  {
   "cell_type": "code",
   "execution_count": 6,
   "metadata": {},
   "outputs": [
    {
     "data": {
      "text/plain": [
       "{'location': {'interval': {'inner': {'end': 30,\n",
       "    'start': 20,\n",
       "    'type': 'SimpleInterval'},\n",
       "   'outer': {'end': 40, 'start': 10, 'type': 'SimpleInterval'},\n",
       "   'type': 'NestedInterval'},\n",
       "  'sequence_id': 'ga4gh:SQ.0123abcd',\n",
       "  'type': 'SequenceLocation'},\n",
       " 'type': 'DerivedSequence'}"
      ]
     },
     "execution_count": 6,
     "metadata": {},
     "output_type": "execute_result"
    }
   ],
   "source": [
    "ds = models.DerivedSequence(location=sl)\n",
    "ds.as_dict()"
   ]
  },
  {
   "cell_type": "code",
   "execution_count": 7,
   "metadata": {},
   "outputs": [
    {
     "data": {
      "text/plain": [
       "{'location': {'interval': {'inner': {'end': 30,\n",
       "    'start': 20,\n",
       "    'type': 'SimpleInterval'},\n",
       "   'outer': {'end': 40, 'start': 10, 'type': 'SimpleInterval'},\n",
       "   'type': 'NestedInterval'},\n",
       "  'sequence_id': 'ga4gh:SQ.0123abcd',\n",
       "  'type': 'SequenceLocation'},\n",
       " 'transformation': 'reversecomplement',\n",
       " 'type': 'DerivedSequence'}"
      ]
     },
     "execution_count": 7,
     "metadata": {},
     "output_type": "execute_result"
    }
   ],
   "source": [
    "ds = models.DerivedSequence(location=sl, transformation=\"reversecomplement\")\n",
    "ds.as_dict()"
   ]
  },
  {
   "cell_type": "markdown",
   "metadata": {},
   "source": [
    "### ★ Repeats (RepeatState)\n",
    "\n",
    "In VRS, Repeats are defined to be tandem copies of a sequence of any length (length >= 1). In VRS, they are an assertion of state and not necessarily a change with respect to the reference sequence.\n",
    "\n",
    "Repeats are implemented using the Allele class with a RepeatState applied to a Location. The RepeatState conveys both the repeat count and the repeat sequence.\n",
    "\n",
    "The number of copies may be known precisely, or may be specified as a range (min, max), which is essential for certain applications (e.g., Huntington's disease CAG repeat sizes).\n",
    "\n",
    "The repeat sequence may be verbatim or a derived/approximated sequence.\n",
    "\n",
    "For a precise repeat length with a fixed sequence, Repeats are equivalent to Alleles with a single SequenceState.\n",
    "\n",
    "Repeats should be used only when copies are known to be tandem; if the location of repeats is unknown or genome-wide, Abundance should be used. "
   ]
  },
  {
   "cell_type": "markdown",
   "metadata": {},
   "source": [
    "Discussion\n",
    "* RepeatState will use LiteralSequence, not inlined sequence\n",
    "* Allele currently uses inline sequence. Will add LiteralSequence and deprecate inline.\n"
   ]
  },
  {
   "cell_type": "code",
   "execution_count": 8,
   "metadata": {},
   "outputs": [
    {
     "data": {
      "text/plain": [
       "{'copies': {'max': 10, 'min': 5},\n",
       " 'sequence': {'sequence': 'CAG', 'type': 'LiteralSequence'},\n",
       " 'type': 'RepeatedSequence'}"
      ]
     },
     "execution_count": 8,
     "metadata": {},
     "output_type": "execute_result"
    }
   ],
   "source": [
    "models.RepeatedSequence(\n",
    "    sequence=models.LiteralSequence(sequence=\"CAG\"),\n",
    "    copies={\"min\": 5, \"max\": 10}).as_dict()"
   ]
  },
  {
   "cell_type": "code",
   "execution_count": 9,
   "metadata": {
    "scrolled": true
   },
   "outputs": [
    {
     "data": {
      "text/plain": [
       "{'copies': {'max': 10, 'min': 5},\n",
       " 'sequence': {'location': {'interval': {'end': 30,\n",
       "    'start': 20,\n",
       "    'type': 'SimpleInterval'},\n",
       "   'sequence_id': 'ga4gh:SQ.abc123',\n",
       "   'type': 'SequenceLocation'},\n",
       "  'type': 'DerivedSequence'},\n",
       " 'type': 'RepeatedSequence'}"
      ]
     },
     "execution_count": 9,
     "metadata": {},
     "output_type": "execute_result"
    }
   ],
   "source": [
    "sl = models.SequenceLocation(\n",
    "    sequence_id=\"ga4gh:SQ.abc123\",\n",
    "    interval=models.SimpleInterval(start=20, end=30))\n",
    "rs = models.RepeatedSequence(\n",
    "    sequence=models.DerivedSequence(location=sl),\n",
    "    copies={\"min\": 5, \"max\": 10})\n",
    "rs.as_dict()"
   ]
  },
  {
   "cell_type": "markdown",
   "metadata": {},
   "source": [
    "## ★ Abundance\n",
    "Abundance is a systemic state that captures the amount of a \"subject\" location throughout the genome.\n",
    "\n",
    "Valid Abundance subjects are:\n",
    "* SequenceLocations\n",
    "* TranscriptLocations\n",
    "* ChromosomeLocations\n",
    "* GeneLocations (a quasi-location of a gene)\n",
    "* Allele\n",
    "\n",
    "Quantifiers may be:\n",
    "* Absolute copy count range\n",
    "* Relative copy count range, with reference\n",
    "* Qualitative copy count (e.g., \"greater than\"), with reference\n",
    "\n",
    "The intention is to allow all combinations of the above subjects and quantifiers.\n",
    "\n",
    "Issues/questions:\n",
    "* What are possible references? \"diploid\" (incl female X), \"haploid\" (X, Y in males)"
   ]
  },
  {
   "cell_type": "code",
   "execution_count": 31,
   "metadata": {},
   "outputs": [],
   "source": [
    "ab = models.Abundance(\n",
    "    amount={\"min\": 5, \"max\": 10, \"measure\": \"AbsoluteCounts\"}\n",
    "    ).as_dict()"
   ]
  },
  {
   "cell_type": "code",
   "execution_count": 33,
   "metadata": {},
   "outputs": [
    {
     "data": {
      "text/plain": [
       "{'amount': {'min': 3, 'max': 13, 'measure': 'RelativeCounts'},\n",
       " 'type': 'Abundance'}"
      ]
     },
     "execution_count": 33,
     "metadata": {},
     "output_type": "execute_result"
    }
   ],
   "source": [
    "models.Abundance(\n",
    "    amount={\"min\": 3, \"max\": 13, \"measure\": \"RelativeCounts\"}\n",
    "    ).as_dict()"
   ]
  },
  {
   "cell_type": "code",
   "execution_count": 35,
   "metadata": {},
   "outputs": [
    {
     "data": {
      "text/plain": [
       "{'amount': {'measure': 'Qualitative', 'rel': 'gt'}, 'type': 'Abundance'}"
      ]
     },
     "execution_count": 35,
     "metadata": {},
     "output_type": "execute_result"
    }
   ],
   "source": [
    "models.Abundance(\n",
    "    amount={\"measure\": \"Qualitative\", \"rel\": \"gt\"}\n",
    "    ).as_dict()"
   ]
  },
  {
   "cell_type": "markdown",
   "metadata": {},
   "source": [
    "## ★ Transcripts and Transcript Locations\n",
    "\n",
    "This section implements the unified model of transcripts, which defines a Transcript is a collection of exons and optional cds on any sequence.  For example, a RefSeq transcript on the defining RefSeq sequence would be one Transcript, and the projection of that transcript onto a genomic sequence (through splign, typically) would be a *different* Transcript with the *same* data structure.  Note that the colloquial use of \"transcript\" is ambiguous about the underlying sequence, which means that it refers non-specifically to a family of Transcripts (as defined above).\n",
    "\n",
    "Considering HGVS syntax `NC_000007.13(NM_005228.4)` is useful. One interpretation of that syntax is that it is specifying the `NM_005228.4` exon structure on the `NC_000007.13` sequence. With that view, the AnnotatedSequence model uses distinct data structures for variants with reference sequences like `NM_005228.4` and `NC_000007.13(NM_005228.4)`. In contrast, the Unified Model effectively treats `NM_005228.4` as `NM_005228.4(NM_005228.4)`, and uses the same information model as for aligned sequences."
   ]
  },
  {
   "cell_type": "markdown",
   "metadata": {},
   "source": [
    "### Defining Transcripts"
   ]
  },
  {
   "cell_type": "code",
   "execution_count": 9,
   "metadata": {},
   "outputs": [],
   "source": [
    "# Example transcript: NM_000314.6 (PTEN) on chr 10\n",
    "\n",
    "# NM_000314.6(PTEN):c.78C>A  ~  NC_000010.11:g.87864547C>T\n",
    "# NM_000314.6(PTEN):c.79+3A>G  ~  NC_000010.11:g.87864551A>G\n",
    "\n",
    "# NM_000314.6\n",
    "# These exons and CDS on the NM_000314.6 sequences constitute the\n",
    "# definition of this transcript\n",
    "t_exons = [(0,1110), (1110,1195), (1195,1240),\n",
    "            (1240,1284), (1284,1523), (1523,1665),\n",
    "            (1665,1832), (1832,2057), (2057,8701)]\n",
    "t_cds = (1031,2243)\n",
    "\n",
    "# NM_000314.6 aligned (by NCBI) to NC_000010.11 sequence (GRCh38 chr 10), + strand\n",
    "g_exons = [(87863437, 87864548), (87894024, 87894109), (87925512, 87925557),\n",
    "           (87931045, 87931089), (87933012, 87933251), (87952117, 87952259),\n",
    "           (87957852, 87958019), (87960893, 87961118), (87965286, 87971930)]\n",
    "\n",
    "# Cigars of alignment (relative to transcript)\n",
    "tg_cigars = \"666=1I39=1X404= 85= 45= 44= 239= 142= 167= 225= 6644=\"\n",
    "\n",
    "# g_cds is computed from t_cds, accounting for alignment \n",
    "# 1032 = 1031 + 1I in cigar\n",
    "g_cds = (87863437 + 1032, 87965286 + 2243 - 2057)\n",
    "\n",
    "\n",
    "t_sequence_id = translate_sequence_identifier(\"refseq:NM_000314.6\")\n",
    "g_sequence_id = translate_sequence_identifier(\"refseq:NC_000010.11\")"
   ]
  },
  {
   "cell_type": "code",
   "execution_count": 10,
   "metadata": {},
   "outputs": [],
   "source": [
    "t_transcript = models.Transcript(\n",
    "  sequence_id = t_sequence_id,\n",
    "  exons = [models.SimpleInterval(start=ex[0], end=ex[1]) for ex in t_exons],\n",
    "  cds = models.SimpleInterval(start=t_cds[0], end=t_cds[1])\n",
    ")\n",
    "\n",
    "g_transcript = models.Transcript(\n",
    "  sequence_id = g_sequence_id,\n",
    "  exons = [models.SimpleInterval(start=ex[0], end=ex[1]) for ex in g_exons],\n",
    "  cds = models.SimpleInterval(start=g_cds[0], end=g_cds[1])\n",
    ")"
   ]
  },
  {
   "cell_type": "code",
   "execution_count": 11,
   "metadata": {},
   "outputs": [
    {
     "data": {
      "text/plain": [
       "{'cds': {'end': 2243, 'start': 1031, 'type': 'SimpleInterval'},\n",
       " 'exons': [{'end': 1110, 'start': 0, 'type': 'SimpleInterval'},\n",
       "  {'end': 1195, 'start': 1110, 'type': 'SimpleInterval'},\n",
       "  {'end': 1240, 'start': 1195, 'type': 'SimpleInterval'},\n",
       "  {'end': 1284, 'start': 1240, 'type': 'SimpleInterval'},\n",
       "  {'end': 1523, 'start': 1284, 'type': 'SimpleInterval'},\n",
       "  {'end': 1665, 'start': 1523, 'type': 'SimpleInterval'},\n",
       "  {'end': 1832, 'start': 1665, 'type': 'SimpleInterval'},\n",
       "  {'end': 2057, 'start': 1832, 'type': 'SimpleInterval'},\n",
       "  {'end': 8701, 'start': 2057, 'type': 'SimpleInterval'}],\n",
       " 'sequence_id': 'ga4gh:SQ.7YNhHjHLiBJwNd43xjLJA7jjnuJwPhxn',\n",
       " 'type': 'Transcript'}"
      ]
     },
     "execution_count": 11,
     "metadata": {},
     "output_type": "execute_result"
    }
   ],
   "source": [
    "t_transcript.as_dict()"
   ]
  },
  {
   "cell_type": "code",
   "execution_count": 12,
   "metadata": {},
   "outputs": [
    {
     "data": {
      "text/plain": [
       "{'cds': {'end': 87965472, 'start': 87864469, 'type': 'SimpleInterval'},\n",
       " 'exons': [{'end': 87864548, 'start': 87863437, 'type': 'SimpleInterval'},\n",
       "  {'end': 87894109, 'start': 87894024, 'type': 'SimpleInterval'},\n",
       "  {'end': 87925557, 'start': 87925512, 'type': 'SimpleInterval'},\n",
       "  {'end': 87931089, 'start': 87931045, 'type': 'SimpleInterval'},\n",
       "  {'end': 87933251, 'start': 87933012, 'type': 'SimpleInterval'},\n",
       "  {'end': 87952259, 'start': 87952117, 'type': 'SimpleInterval'},\n",
       "  {'end': 87958019, 'start': 87957852, 'type': 'SimpleInterval'},\n",
       "  {'end': 87961118, 'start': 87960893, 'type': 'SimpleInterval'},\n",
       "  {'end': 87971930, 'start': 87965286, 'type': 'SimpleInterval'}],\n",
       " 'sequence_id': 'ga4gh:SQ.ss8r_wB0-b9r44TQTMmVTI92884QvBiB',\n",
       " 'type': 'Transcript'}"
      ]
     },
     "execution_count": 12,
     "metadata": {},
     "output_type": "execute_result"
    }
   ],
   "source": [
    "g_transcript.as_dict()"
   ]
  },
  {
   "cell_type": "code",
   "execution_count": 13,
   "metadata": {},
   "outputs": [
    {
     "data": {
      "text/plain": [
       "('ga4gh:VTX.nTRjcOgzR6_owupcO39owUADNZeFY0d3',\n",
       " 'ga4gh:VTX.pTvbXNiGxYhmHFvCn7FeBnAFb14DzAZr')"
      ]
     },
     "execution_count": 13,
     "metadata": {},
     "output_type": "execute_result"
    }
   ],
   "source": [
    "t_transcript_id = ga4gh_identify(t_transcript)\n",
    "g_transcript_id = ga4gh_identify(g_transcript)\n",
    "t_transcript_id, g_transcript_id"
   ]
  },
  {
   "cell_type": "markdown",
   "metadata": {},
   "source": [
    "### Transcript Feature Locations"
   ]
  },
  {
   "cell_type": "code",
   "execution_count": 14,
   "metadata": {},
   "outputs": [
    {
     "data": {
      "text/plain": [
       "{'feature_type': 'exon', 'index': 0}"
      ]
     },
     "execution_count": 14,
     "metadata": {},
     "output_type": "execute_result"
    }
   ],
   "source": [
    "tf = models.TranscriptFeature(feature_type=\"exon\", index=0)\n",
    "tf.as_dict()"
   ]
  },
  {
   "cell_type": "code",
   "execution_count": 15,
   "metadata": {},
   "outputs": [
    {
     "data": {
      "text/plain": [
       "{'end': {'feature_type': 'exon', 'index': 5},\n",
       " 'start': {'feature_type': 'exon', 'index': 0},\n",
       " 'type': 'TranscriptFeatureInterval'}"
      ]
     },
     "execution_count": 15,
     "metadata": {},
     "output_type": "execute_result"
    }
   ],
   "source": [
    "tfi = models.TranscriptFeatureInterval(\n",
    "    start=models.TranscriptFeature(feature_type=\"exon\", index=0),\n",
    "    end=models.TranscriptFeature(feature_type=\"exon\", index=5),\n",
    ")\n",
    "tfi.as_dict()"
   ]
  },
  {
   "cell_type": "code",
   "execution_count": 16,
   "metadata": {},
   "outputs": [
    {
     "data": {
      "text/plain": [
       "{'interval': {'end': {'feature_type': 'exon', 'index': 5},\n",
       "  'start': {'feature_type': 'exon', 'index': 0},\n",
       "  'type': 'TranscriptFeatureInterval'},\n",
       " 'transcript': {'cds': {'end': 87965472,\n",
       "   'start': 87864469,\n",
       "   'type': 'SimpleInterval'},\n",
       "  'exons': [{'end': 87864548, 'start': 87863437, 'type': 'SimpleInterval'},\n",
       "   {'end': 87894109, 'start': 87894024, 'type': 'SimpleInterval'},\n",
       "   {'end': 87925557, 'start': 87925512, 'type': 'SimpleInterval'},\n",
       "   {'end': 87931089, 'start': 87931045, 'type': 'SimpleInterval'},\n",
       "   {'end': 87933251, 'start': 87933012, 'type': 'SimpleInterval'},\n",
       "   {'end': 87952259, 'start': 87952117, 'type': 'SimpleInterval'},\n",
       "   {'end': 87958019, 'start': 87957852, 'type': 'SimpleInterval'},\n",
       "   {'end': 87961118, 'start': 87960893, 'type': 'SimpleInterval'},\n",
       "   {'end': 87971930, 'start': 87965286, 'type': 'SimpleInterval'}],\n",
       "  'sequence_id': 'ga4gh:SQ.ss8r_wB0-b9r44TQTMmVTI92884QvBiB',\n",
       "  'type': 'Transcript'},\n",
       " 'type': 'TranscriptLocation'}"
      ]
     },
     "execution_count": 16,
     "metadata": {},
     "output_type": "execute_result"
    }
   ],
   "source": [
    "tfl = models.TranscriptLocation(\n",
    "    transcript = g_transcript,\n",
    "    interval = tfi)\n",
    "tfl.as_dict()"
   ]
  },
  {
   "cell_type": "code",
   "execution_count": 17,
   "metadata": {},
   "outputs": [
    {
     "data": {
      "text/plain": [
       "'ga4gh:VTL.h2wLFU5g0cp5AxX59QsVKcllRljBhF-b'"
      ]
     },
     "execution_count": 17,
     "metadata": {},
     "output_type": "execute_result"
    }
   ],
   "source": [
    "ga4gh_identify(tfl)"
   ]
  },
  {
   "cell_type": "code",
   "execution_count": 18,
   "metadata": {},
   "outputs": [
    {
     "data": {
      "text/plain": [
       "{'interval': {'end': {'feature_type': 'exon', 'index': 5},\n",
       "  'start': {'feature_type': 'exon', 'index': 0},\n",
       "  'type': 'TranscriptFeatureInterval'},\n",
       " 'transcript': 'ga4gh:VTX.pTvbXNiGxYhmHFvCn7FeBnAFb14DzAZr',\n",
       " 'type': 'TranscriptLocation'}"
      ]
     },
     "execution_count": 18,
     "metadata": {},
     "output_type": "execute_result"
    }
   ],
   "source": [
    "vrs_enref(tfl).as_dict()"
   ]
  },
  {
   "cell_type": "markdown",
   "metadata": {},
   "source": [
    "### Defining transcript locations for CDS variation\n",
    "NM_000314.6(PTEN):c.78C>A  ~  NC_000010.11:g.87864547C>T\n",
    "\n",
    "CDS start c.1 corresponds to n.1032.\n",
    "c.78 corresponds to n.1110, or interbase position 1109,1110 on sequence NM_000314.6.\n",
    "Due to the 1 nt insertion on NC_000010.11, that position aligns to interbase position 1110,1111."
   ]
  },
  {
   "cell_type": "code",
   "execution_count": 19,
   "metadata": {
    "scrolled": true
   },
   "outputs": [
    {
     "data": {
      "text/plain": [
       "{'interval': {'end': 1110, 'start': 1109, 'type': 'SimpleInterval'},\n",
       " 'transcript': 'ga4gh:VTX.nTRjcOgzR6_owupcO39owUADNZeFY0d3',\n",
       " 'type': 'TranscriptLocation'}"
      ]
     },
     "execution_count": 19,
     "metadata": {},
     "output_type": "execute_result"
    }
   ],
   "source": [
    "t_tloc = models.TranscriptLocation(\n",
    "    transcript = t_transcript,\n",
    "    interval = models.SimpleInterval(start=1109,end=1110))\n",
    "vrs_enref(t_tloc).as_dict()"
   ]
  },
  {
   "cell_type": "code",
   "execution_count": 20,
   "metadata": {
    "scrolled": false
   },
   "outputs": [
    {
     "data": {
      "text/plain": [
       "{'interval': {'end': 1111, 'start': 1110, 'type': 'SimpleInterval'},\n",
       " 'transcript': 'ga4gh:VTX.pTvbXNiGxYhmHFvCn7FeBnAFb14DzAZr',\n",
       " 'type': 'TranscriptLocation'}"
      ]
     },
     "execution_count": 20,
     "metadata": {},
     "output_type": "execute_result"
    }
   ],
   "source": [
    "g_tloc = models.TranscriptLocation(\n",
    "    transcript = g_transcript,\n",
    "    interval = models.SimpleInterval(start=1110,end=1111))\n",
    "vrs_enref(g_tloc).as_dict()"
   ]
  },
  {
   "cell_type": "markdown",
   "metadata": {},
   "source": [
    "---\n",
    "# Specific Examples\n",
    "\n",
    "The examples below use variation from ClinVar and VICC to demonstrate the above classes."
   ]
  },
  {
   "cell_type": "markdown",
   "metadata": {},
   "source": [
    "## VCV000528890.1 NC_000001.11:g.(?\\_218346682)\\_(218441382\\_?)del\n",
    "\n",
    "\n",
    "Three possible interpretations:\n",
    "* Molecular variation w/del\n",
    "* MV w/Repeat state 0\n",
    "* Abundance abs copy = 1"
   ]
  },
  {
   "cell_type": "code",
   "execution_count": 7,
   "metadata": {
    "scrolled": true
   },
   "outputs": [
    {
     "name": "stdout",
     "output_type": "stream",
     "text": [
      "{\n",
      "  \"location\": {\n",
      "    \"interval\": {\n",
      "      \"inner\": {\n",
      "        \"end\": 218441382,\n",
      "        \"start\": 218346681,\n",
      "        \"type\": \"SimpleInterval\"\n",
      "      },\n",
      "      \"outer\": {\n",
      "        \"type\": \"SimpleInterval\"\n",
      "      },\n",
      "      \"type\": \"NestedInterval\"\n",
      "    },\n",
      "    \"sequence_id\": \"ga4gh:SQ.Ya6Rs7DHhDeg7YaOSg1EoNi3U_nQ9SvO\",\n",
      "    \"type\": \"SequenceLocation\"\n",
      "  },\n",
      "  \"state\": {\n",
      "    \"sequence\": \"\",\n",
      "    \"type\": \"SequenceState\"\n",
      "  },\n",
      "  \"type\": \"Allele\"\n",
      "}\n"
     ]
    }
   ],
   "source": [
    "a = models.Allele(\n",
    "    location=models.SequenceLocation(\n",
    "        sequence_id=translate_sequence_identifier(\"NC_000001.11\"),\n",
    "        interval=models.NestedInterval(\n",
    "            inner=models.SimpleInterval(start=218346681, end=218441382),\n",
    "            outer=models.SimpleInterval(start=None, end=None))),\n",
    "    state=models.SequenceState(sequence=''))\n",
    "ppo(a)"
   ]
  },
  {
   "cell_type": "markdown",
   "metadata": {},
   "source": [
    "## VCV000665644.1 NC_000001.10:g.(?\\_15764951)\\_(15765010\\_?)dup"
   ]
  },
  {
   "cell_type": "code",
   "execution_count": 37,
   "metadata": {
    "scrolled": false
   },
   "outputs": [
    {
     "data": {
      "text/plain": [
       "{'location': {'interval': {'inner': {'end': 15765010,\n",
       "    'start': 15764950,\n",
       "    'type': 'SimpleInterval'},\n",
       "   'outer': {'type': 'SimpleInterval'},\n",
       "   'type': 'NestedInterval'},\n",
       "  'sequence_id': 'ga4gh:SQ.Ya6Rs7DHhDeg7YaOSg1EoNi3U_nQ9SvO',\n",
       "  'type': 'SequenceLocation'},\n",
       " 'state': {'copies': {'max': 2, 'min': 2}, 'type': 'RepeatState'},\n",
       " 'type': 'Allele'}"
      ]
     },
     "execution_count": 37,
     "metadata": {},
     "output_type": "execute_result"
    }
   ],
   "source": [
    "# if the copies are known to be tandem\n",
    "a = models.Allele(\n",
    "    location=models.SequenceLocation(\n",
    "        sequence_id=translate_sequence_identifier(\"NC_000001.11\"),\n",
    "        interval=models.NestedInterval(\n",
    "            inner=models.SimpleInterval(start=15764950, end=15765010),\n",
    "            outer=models.SimpleInterval(start=None, end=None))),\n",
    "    state=models.RepeatState(\n",
    "        copies={\"min\":2, \"max\": 2}),\n",
    "        source? ~sequence~=(derived sequence | Alelle))\n",
    ")\n",
    "a.as_dict()"
   ]
  },
  {
   "cell_type": "code",
   "execution_count": 39,
   "metadata": {},
   "outputs": [
    {
     "data": {
      "text/plain": [
       "{'amount': {'min': 2, 'max': 2, 'measure': 'AbsoluteCount'},\n",
       " 'location': {'interval': {'inner': {'end': 15765010,\n",
       "    'start': 15764950,\n",
       "    'type': 'SimpleInterval'},\n",
       "   'outer': {'type': 'SimpleInterval'},\n",
       "   'type': 'NestedInterval'},\n",
       "  'sequence_id': 'ga4gh:SQ.Ya6Rs7DHhDeg7YaOSg1EoNi3U_nQ9SvO',\n",
       "  'type': 'SequenceLocation'},\n",
       " 'type': 'Abundance'}"
      ]
     },
     "execution_count": 39,
     "metadata": {},
     "output_type": "execute_result"
    }
   ],
   "source": [
    "# if the copies are not known to be tandem, this should be an Abundance statement\n",
    "a = models.Abundance(\n",
    "    location=models.SequenceLocation(\n",
    "        sequence_id=translate_sequence_identifier(\"NC_000001.11\"),\n",
    "        interval=models.NestedInterval(\n",
    "            inner=models.SimpleInterval(start=15764950, end=15765010),\n",
    "            outer=models.SimpleInterval(start=None, end=None))),\n",
    "    amount={\"min\":2, \"max\": 2, \"measure\": \"AbsoluteCount\"})\n",
    "a.as_dict()"
   ]
  },
  {
   "cell_type": "markdown",
   "metadata": {},
   "source": [
    "## VCV000662440.1 NM_003000.2(SDHB):c.656_707dup (p.Pro237_Phe238insAspTer)"
   ]
  },
  {
   "cell_type": "code",
   "execution_count": 41,
   "metadata": {},
   "outputs": [
    {
     "data": {
      "text/plain": [
       "{'location': {'interval': {'end': 707, 'start': 655, 'type': 'SimpleInterval'},\n",
       "  'sequence_id': 'ga4gh:SQ.Aqu6SGQJj0RGxWrihJZHQfzxCongdQ-W',\n",
       "  'type': 'SequenceLocation'},\n",
       " 'state': {'copies': {'max': 2, 'min': 2}, 'type': 'RepeatState'},\n",
       " 'type': 'Allele'}"
      ]
     },
     "execution_count": 41,
     "metadata": {},
     "output_type": "execute_result"
    }
   ],
   "source": [
    "a = models.Allele(\n",
    "    location=models.SequenceLocation(\n",
    "        sequence_id=translate_sequence_identifier(\"NM_003000.2\"),\n",
    "        interval=models.SimpleInterval(start=655, end=707)),\n",
    "    state=models.RepeatState(copies={\"min\":2, \"max\": 2}))\n",
    "a.as_dict()"
   ]
  },
  {
   "cell_type": "markdown",
   "metadata": {},
   "source": [
    "## VCV000007621.2 NM_000214.3(JAG1):c.2091_2095GAAAG[1] (p.Gly699fs)\n",
    "```\n",
    "This variant is incorrectly written.  The repeat unit GAAAG should be left-shuffled to GGAAA, making the left-shifted version c.2090_2094GGAAA.\n",
    "\n",
    " c.2081     2091     2101     2111\n",
    " n.2551     2561     2571     2581  \n",
    "      |        |        |        |\n",
    "      AAATGGGTGGAAAGGAAAGACCTGCCAC\n",
    "\n",
    "Converting a repeat to a SequenceState requires examining downstream sequence for the repeat unit, and inserting or deleting as necessary.  Imagine that this sequence had five GAAAG repeats and we got `[1]`; then, 4 repeats would be deleted, which is evident only from sequence context.\n",
    "\n",
    "See note below about sequence locations for repeats.\n",
    "```"
   ]
  },
  {
   "cell_type": "markdown",
   "metadata": {},
   "source": [
    "### Discuss: Location of repeats\n",
    "\n",
    "```\n",
    " n.2551              2561              2571              2581  \n",
    " c.2081              2091              2101              2111\n",
    "      |                 |                 |                 |\n",
    "      A A A T G G G T G G A A A G G A A A G A C C T G C C A C\n",
    "                      [-------] [-------] - \n",
    "\n",
    "* What is the assertion of reference? Two GGAAA at 2090?\n",
    "* The variant above is an assertion of only 1 repeat. Can we assert zero repeats?\n",
    "* Must be left aligned? How does that comport with fully justified?\n",
    "\n",
    "```"
   ]
  },
  {
   "cell_type": "code",
   "execution_count": 43,
   "metadata": {},
   "outputs": [
    {
     "data": {
      "text/plain": [
       "{'location': {'interval': {'end': 2089,\n",
       "   'start': 2089,\n",
       "   'type': 'SimpleInterval'},\n",
       "  'sequence_id': 'ga4gh:SQ.9MpDPgYoiNK-w76vPWkEYB-kTeZIK2NQ',\n",
       "  'type': 'SequenceLocation'},\n",
       " 'state': {'copies': {'max': 1, 'min': 1},\n",
       "  'sequence': 'GGAAA',\n",
       "  'type': 'RepeatState'},\n",
       " 'type': 'Allele'}"
      ]
     },
     "execution_count": 43,
     "metadata": {},
     "output_type": "execute_result"
    }
   ],
   "source": [
    "a = models.Allele(\n",
    "    location=models.SequenceLocation(\n",
    "        sequence_id=translate_sequence_identifier(\"NM_000214.3\"),\n",
    "        interval=models.SimpleInterval(start=2089, end=2089)),\n",
    "    state=models.RepeatState(sequence=\"GGAAA\", copies={\"min\": 1,\"max\": 1}))\n",
    "a.as_dict()"
   ]
  },
  {
   "cell_type": "markdown",
   "metadata": {},
   "source": [
    "## VCV000144802.1 GRCh38/hg38 1p36.32(chr1:2651321-2701929)x1\n",
    "⇒ make it possible to represent cytoband and coordinate representations, but not both in one object\n"
   ]
  },
  {
   "cell_type": "code",
   "execution_count": null,
   "metadata": {},
   "outputs": [],
   "source": [
    "cl = models.ChromosomeLocation(chr=\"1\",\n",
    "    interval=models.CytobandInterval(start=\"p36.32\", end=\"p36.32\"))\n",
    "cl.as_dict()"
   ]
  },
  {
   "cell_type": "code",
   "execution_count": null,
   "metadata": {},
   "outputs": [],
   "source": [
    "ab = models.Abundance(\n",
    "    location=cl,\n",
    "    amount={\n",
    "        \"min\": 1, \"max\": 1})\n",
    "ab.as_dict()"
   ]
  },
  {
   "cell_type": "code",
   "execution_count": null,
   "metadata": {
    "scrolled": false
   },
   "outputs": [],
   "source": [
    "ga4gh_identify(ab)"
   ]
  },
  {
   "cell_type": "markdown",
   "metadata": {},
   "source": [
    "## VCV000149842.1 GRCh38/hg38 15q11.2(chr15:25334870-25351819)x3\n",
    "⇒ specified with HGVS NC_000015.8:g.(?_23131110)_(23148059_?)dup, ..."
   ]
  },
  {
   "cell_type": "markdown",
   "metadata": {},
   "source": [
    "## VCV000395246.1 GRCh37/hg19 Xq21.33-28(chrX:94043221-155246585)x1"
   ]
  },
  {
   "cell_type": "markdown",
   "metadata": {},
   "source": [
    "## VCV000394192.1 GRCh37/hg19 Xp11.4(chrX:40456453-40487150)x2"
   ]
  },
  {
   "cell_type": "markdown",
   "metadata": {},
   "source": [
    "## 3 copies EGFR\n",
    "\n",
    "Larry:\n",
    "ab = models.Abundance(\n",
    "    molstate = Gene('ncbigene:1234')\n",
    "    amount={min: 3, max: 3}\n",
    "    )\n",
    "\n",
    "Alex:\n",
    "ab = models.Abundance(\n",
    "    molvar = Allele(\n",
    "       location = Gene('ncbigene:1234'),\n",
    "       state = AmbiguousState()),\n",
    "    amount={min: 3, max: 3}\n",
    "    )\n",
    "\n",
    "ab = models.Abundance(\n",
    "    molvar = Allele(\n",
    "       location = NM_1234.4:22_33,\n",
    "       state = sequence='' ),\n",
    "    amount={min: 3, max: 3}\n",
    "    )\n",
    "\n",
    "\n",
    "\n",
    "ab = models.Abundance(\n",
    "    molvar = Allele(\n",
    "       location = NM_01234.5,\n",
    "       state = AmbiguousState()),\n",
    "    amount={min: 3, max: 3}\n",
    "    )\n",
    "\n",
    "ab = models.Abundance(\n",
    "    molvar = Transcript(NM_01234.5),\n",
    "    amount={min: 3, max: 3}\n",
    "    )"
   ]
  },
  {
   "cell_type": "markdown",
   "metadata": {},
   "source": [
    "## EID473 ... “increased copy number or amplification of EGFR”... (>8x copies)"
   ]
  },
  {
   "cell_type": "markdown",
   "metadata": {},
   "source": [
    "## EID5925 “increased EGFR gene copy number”"
   ]
  },
  {
   "cell_type": "code",
   "execution_count": null,
   "metadata": {},
   "outputs": [],
   "source": []
  },
  {
   "cell_type": "markdown",
   "metadata": {},
   "source": [
    "## VCV000254074.1 NM_007294.3(BRCA1):c.5075-?_5277+?dup203"
   ]
  },
  {
   "cell_type": "markdown",
   "metadata": {},
   "source": [
    "## VCV000145395.1 GRCh38/hg38 1p36.33(chr1:844353-911241)x3 (FAM41C , LINC01128)"
   ]
  },
  {
   "cell_type": "markdown",
   "metadata": {},
   "source": [
    "## VCV000395687.1 GRCh37/hg19 Xp22.33-q28(chrX:70297-155255792)\n",
    "NCBI calls this a \"copy number loss\" with corresponding HGVS `NC_000023.10:g.(?_70297)_(155255792_?)del`"
   ]
  },
  {
   "cell_type": "markdown",
   "metadata": {},
   "source": []
  },
  {
   "cell_type": "markdown",
   "metadata": {},
   "source": [
    "# Discussion/Questions/Decisions\n",
    "\n",
    "## What is the location of a repeat?\n",
    "\n",
    "A repeat should be located over the entire region of the repeated sequence. Rationale: RepeatState is essentially a delins, where the ins is a repeated sequence.\n",
    "\n",
    "## Should we permit copy number zero?\n",
    "\n",
    "RepeatState and Abundance may specify zero repeats/counts. \n",
    "\n",
    "Rationale: Users may wish to express count ranges that include 0, such as 0 <= count <= 2. Using a distinct deletion state in lieu of 0 would create significant discontinuities in the data model.\n",
    "\n",
    "## How to describe repeat and abundance source sequences ?\n",
    "\n",
    "Obvious needs: 1) inline? sequence, 2) sequence from SequenceLocation, 3) arbitrary sequence constrained by size (e.g., modulo 3). \n",
    "\n",
    "Re: \"Approximate\" repeats: We have yet to come up with a precise definition of approximate, that is a characterization of the ways in which a sequence might be approximate.\n",
    "\n",
    "Reece thinks that it's important that an expression can be matched against a query sequence. Unclear whether other think that this is important too. A related but distinct issue is whether an expression can generate a sequence (as with a grammar) and whether that's finite.\n",
    "\n",
    "\n",
    "## Are RepeatState instances normalized?\n",
    "\n",
    "RepeatState instances are not normalized. Rationale: Data producers may choose a repeat unit that may have meaning, such as starting on a codon boundary. However, in the absence of a reason to choose a particular repeat unit, users should use the left-most representation of the repeat accounting for circular permutations of the repeat unit (as with normalization).\n",
    "\n",
    "\n",
    "## What about digest?\n",
    "\n",
    "In VRS, the digest is always a digest of the data structure.  If the implied sequence is well-defined, it the repeat must be converted to an equivalent SequenceState Allele. \n",
    "\n",
    "\n",
    "##  Can a SequenceLocation be used as a Sequence?\n"
   ]
  },
  {
   "cell_type": "markdown",
   "metadata": {},
   "source": [
    "## Should VRS require all properties explicitly?"
   ]
  },
  {
   "cell_type": "code",
   "execution_count": null,
   "metadata": {},
   "outputs": [],
   "source": []
  }
 ],
 "metadata": {
  "kernelspec": {
   "display_name": "Python 3",
   "language": "python",
   "name": "python3"
  },
  "language_info": {
   "codemirror_mode": {
    "name": "ipython",
    "version": 3
   },
   "file_extension": ".py",
   "mimetype": "text/x-python",
   "name": "python",
   "nbconvert_exporter": "python",
   "pygments_lexer": "ipython3",
   "version": "3.8.5"
  },
  "toc": {
   "base_numbering": 1,
   "nav_menu": {},
   "number_sections": true,
   "sideBar": true,
   "skip_h1_title": false,
   "title_cell": "Table of Contents",
   "title_sidebar": "Contents",
   "toc_cell": false,
   "toc_position": {
    "height": "calc(100% - 180px)",
    "left": "10px",
    "top": "150px",
    "width": "241.594px"
   },
   "toc_section_display": true,
   "toc_window_display": true
  },
  "varInspector": {
   "cols": {
    "lenName": 16,
    "lenType": 16,
    "lenVar": 40
   },
   "kernels_config": {
    "python": {
     "delete_cmd_postfix": "",
     "delete_cmd_prefix": "del ",
     "library": "var_list.py",
     "varRefreshCmd": "print(var_dic_list())"
    },
    "r": {
     "delete_cmd_postfix": ") ",
     "delete_cmd_prefix": "rm(",
     "library": "var_list.r",
     "varRefreshCmd": "cat(var_dic_list()) "
    }
   },
   "position": {
    "height": "198px",
    "left": "994px",
    "right": "20px",
    "top": "114px",
    "width": "350px"
   },
   "types_to_exclude": [
    "module",
    "function",
    "builtin_function_or_method",
    "instance",
    "_Feature"
   ],
   "window_display": false
  }
 },
 "nbformat": 4,
 "nbformat_minor": 4
}
