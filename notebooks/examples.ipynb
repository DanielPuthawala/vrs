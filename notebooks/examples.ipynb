{
 "cells": [
  {
   "cell_type": "markdown",
   "metadata": {},
   "source": [
    "# Development Notebook\n",
    "\n",
    "This notebook demonstrates new features in the develop branch of vr-spec. The primary new features are Repeats and Abundance, and secondary classes that enable their use in representing common variation that involves the duplication of sequence.\n",
    "\n",
    "The corresponding schema (currently) exists only in the vr-spec develop branch. It also requires an up-to-date vrs-python package."
   ]
  },
  {
   "cell_type": "code",
   "execution_count": 1,
   "metadata": {},
   "outputs": [],
   "source": [
    "from ga4gh.core import ga4gh_identify, ga4gh_serialize\n",
    "from ga4gh.vrs import models\n",
    "from nbsupport import ppo, translate_sequence_identifier"
   ]
  },
  {
   "cell_type": "markdown",
   "metadata": {},
   "source": [
    "---\n",
    "# Specific Examples\n",
    "\n",
    "The following examples demonstrate the above classes.\n",
    "\n",
    "Notes:\n",
    "* Except for GeneLocation, gene names are ignored\n",
    "* For HGVS ISCN notation, only the cytoband location is used. Locations using precise sequence coordinates are demonstrated in other examples."
   ]
  },
  {
   "cell_type": "markdown",
   "metadata": {},
   "source": [
    "## VCV000528890.1 NC_000001.11:g.(?\\_218346682)\\_(218441382\\_?)del"
   ]
  },
  {
   "cell_type": "code",
   "execution_count": 4,
   "metadata": {},
   "outputs": [
    {
     "name": "stdout",
     "output_type": "stream",
     "text": [
      "{\n",
      "  \"location\": {\n",
      "    \"interval\": {\n",
      "      \"inner\": {\n",
      "        \"end\": 218441382,\n",
      "        \"start\": 218346681,\n",
      "        \"type\": \"SimpleInterval\"\n",
      "      },\n",
      "      \"outer\": {\n",
      "        \"type\": \"SimpleInterval\"\n",
      "      },\n",
      "      \"type\": \"NestedInterval\"\n",
      "    },\n",
      "    \"sequence_id\": \"ga4gh:SQ.Ya6Rs7DHhDeg7YaOSg1EoNi3U_nQ9SvO\",\n",
      "    \"type\": \"SequenceLocation\"\n",
      "  },\n",
      "  \"state\": {\n",
      "    \"sequence\": \"\",\n",
      "    \"type\": \"SequenceState\"\n",
      "  },\n",
      "  \"type\": \"Allele\"\n",
      "}\n"
     ]
    }
   ],
   "source": [
    "a = models.Allele(\n",
    "    location=models.SequenceLocation(\n",
    "        sequence_id=translate_sequence_identifier(\"NC_000001.11\"),\n",
    "        interval=models.NestedInterval(\n",
    "            inner=models.SimpleInterval(start=218346681, end=218441382),\n",
    "            outer=models.SimpleInterval(start=None, end=None))),\n",
    "    state=models.SequenceState(sequence=''))\n",
    "ppo(a)"
   ]
  },
  {
   "cell_type": "markdown",
   "metadata": {},
   "source": [
    "## VCV000665644.1 NC_000001.10:g.(?\\_15764951)\\_(15765010\\_?)dup"
   ]
  },
  {
   "cell_type": "code",
   "execution_count": 5,
   "metadata": {
    "scrolled": true
   },
   "outputs": [
    {
     "data": {
      "text/plain": [
       "{'location': {'interval': {'inner': {'end': 15765010,\n",
       "    'start': 15764950,\n",
       "    'type': 'SimpleInterval'},\n",
       "   'outer': {'type': 'SimpleInterval'},\n",
       "   'type': 'NestedInterval'},\n",
       "  'sequence_id': 'ga4gh:SQ.Ya6Rs7DHhDeg7YaOSg1EoNi3U_nQ9SvO',\n",
       "  'type': 'SequenceLocation'},\n",
       " 'state': {'copies': {'max': 2, 'min': 2}, 'type': 'RepeatState'},\n",
       " 'type': 'Allele'}"
      ]
     },
     "execution_count": 5,
     "metadata": {},
     "output_type": "execute_result"
    }
   ],
   "source": [
    "a = models.Allele(\n",
    "    location=models.SequenceLocation(\n",
    "        sequence_id=translate_sequence_identifier(\"NC_000001.11\"),\n",
    "        interval=models.NestedInterval(\n",
    "            inner=models.SimpleInterval(start=15764950, end=15765010),\n",
    "            outer=models.SimpleInterval(start=None, end=None))),\n",
    "    state=models.RepeatState(copies={\"min\":2, \"max\": 2}))\n",
    "a.as_dict()"
   ]
  },
  {
   "cell_type": "markdown",
   "metadata": {},
   "source": [
    "## VCV000662440.1 NM_003000.2(SDHB):c.656_707dup (p.Pro237_Phe238insAspTer)"
   ]
  },
  {
   "cell_type": "markdown",
   "metadata": {},
   "source": [
    "## VCV000007621.2 NM_000214.3(JAG1):c.2091_2095GAAAG[1] (p.Gly699fs)\n",
    "```\n",
    "This variant is incorrectly written.  The repeat unit GAAAG should be left-shuffled to GGAAA, making the left-shifted version c.2090_2094GGAAA.\n",
    "\n",
    " c.2081     2091     2101     2111\n",
    " n.2551     2561     2571     2581  \n",
    "      |        |        |        |\n",
    "      AAATGGGTGGAAAGGAAAGACCTGCCAC\n",
    "\n",
    "Converting a repeat to a SequenceState requires examining downstream sequence for the repeat unit, and inserting or deleting as necessary.  Imagine that this sequence had five GAAAG repeats and we got `[1]`; then, 4 repeats would be deleted, which is evident only from sequence context.\n",
    "\n",
    "```"
   ]
  },
  {
   "cell_type": "code",
   "execution_count": null,
   "metadata": {},
   "outputs": [],
   "source": [
    "a = models.Allele(\n",
    "    location=models.SequenceLocation(\n",
    "        sequence_id=translate_sequence_identifier(\"NM_000214.3\"),\n",
    "        interval=models.SimpleInterval(start=2090, end=2095)),\n",
    "    state=models.RepeatState(copies={\n",
    "        \"min\": 1,\n",
    "        \"max\": 1}))\n",
    "a.as_dict()"
   ]
  },
  {
   "cell_type": "markdown",
   "metadata": {},
   "source": [
    "## VCV000144802.1 GRCh38/hg38 1p36.32(chr1:2651321-2701929)x1\n",
    "⇒ make it possible to represent cytoband and coordinate representations, but not both in one object\n"
   ]
  },
  {
   "cell_type": "code",
   "execution_count": null,
   "metadata": {},
   "outputs": [],
   "source": [
    "cl = models.ChromosomeLocation(chr=\"1\",\n",
    "    interval=models.CytobandInterval(start=\"p36.32\", end=\"p36.32\"))\n",
    "cl.as_dict()"
   ]
  },
  {
   "cell_type": "code",
   "execution_count": null,
   "metadata": {},
   "outputs": [],
   "source": [
    "ab = models.Abundance(\n",
    "    location=cl,\n",
    "    amount={\n",
    "        \"min\": 1, \"max\": 1})\n",
    "ab.as_dict()"
   ]
  },
  {
   "cell_type": "code",
   "execution_count": null,
   "metadata": {
    "scrolled": false
   },
   "outputs": [],
   "source": [
    "ga4gh_identify(ab)"
   ]
  },
  {
   "cell_type": "markdown",
   "metadata": {},
   "source": [
    "## VCV000149842.1 GRCh38/hg38 15q11.2(chr15:25334870-25351819)x3\n",
    "⇒ specified with HGVS NC_000015.8:g.(?_23131110)_(23148059_?)dup, ..."
   ]
  },
  {
   "cell_type": "markdown",
   "metadata": {},
   "source": [
    "## VCV000395246.1 GRCh37/hg19 Xq21.33-28(chrX:94043221-155246585)x1"
   ]
  },
  {
   "cell_type": "markdown",
   "metadata": {},
   "source": [
    "## VCV000394192.1 GRCh37/hg19 Xp11.4(chrX:40456453-40487150)x2"
   ]
  },
  {
   "cell_type": "markdown",
   "metadata": {},
   "source": [
    "## EID473 ... “increased copy number or amplification of EGFR”... (>8x copies)"
   ]
  },
  {
   "cell_type": "markdown",
   "metadata": {},
   "source": [
    "## EID5925 “increased EGFR gene copy number”"
   ]
  },
  {
   "cell_type": "markdown",
   "metadata": {},
   "source": [
    "## VCV000254074.1 NM_007294.3(BRCA1):c.5075-?_5277+?dup203"
   ]
  },
  {
   "cell_type": "markdown",
   "metadata": {},
   "source": [
    "## VCV000145395.1 GRCh38/hg38 1p36.33(chr1:844353-911241)x3 (FAM41C , LINC01128)"
   ]
  },
  {
   "cell_type": "markdown",
   "metadata": {},
   "source": [
    "## VCV000395687.1 GRCh37/hg19 Xp22.33-q28(chrX:70297-155255792)\n",
    "NCBI calls this a \"copy number loss\" with corresponding HGVS `NC_000023.10:g.(?_70297)_(155255792_?)del`"
   ]
  },
  {
   "cell_type": "markdown",
   "metadata": {},
   "source": []
  },
  {
   "cell_type": "code",
   "execution_count": null,
   "metadata": {},
   "outputs": [],
   "source": []
  }
 ],
 "metadata": {
  "kernelspec": {
   "display_name": "Python 3",
   "language": "python",
   "name": "python3"
  },
  "language_info": {
   "codemirror_mode": {
    "name": "ipython",
    "version": 3
   },
   "file_extension": ".py",
   "mimetype": "text/x-python",
   "name": "python",
   "nbconvert_exporter": "python",
   "pygments_lexer": "ipython3",
   "version": "3.8.5"
  },
  "toc": {
   "base_numbering": 1,
   "nav_menu": {},
   "number_sections": false,
   "sideBar": true,
   "skip_h1_title": false,
   "title_cell": "Table of Contents",
   "title_sidebar": "Contents",
   "toc_cell": false,
   "toc_position": {
    "height": "calc(100% - 180px)",
    "left": "10px",
    "top": "150px",
    "width": "241.594px"
   },
   "toc_section_display": true,
   "toc_window_display": true
  },
  "varInspector": {
   "cols": {
    "lenName": 16,
    "lenType": 16,
    "lenVar": 40
   },
   "kernels_config": {
    "python": {
     "delete_cmd_postfix": "",
     "delete_cmd_prefix": "del ",
     "library": "var_list.py",
     "varRefreshCmd": "print(var_dic_list())"
    },
    "r": {
     "delete_cmd_postfix": ") ",
     "delete_cmd_prefix": "rm(",
     "library": "var_list.r",
     "varRefreshCmd": "cat(var_dic_list()) "
    }
   },
   "position": {
    "height": "198px",
    "left": "994px",
    "right": "20px",
    "top": "114px",
    "width": "350px"
   },
   "types_to_exclude": [
    "module",
    "function",
    "builtin_function_or_method",
    "instance",
    "_Feature"
   ],
   "window_display": false
  }
 },
 "nbformat": 4,
 "nbformat_minor": 4
}
