{
 "cells": [
  {
   "cell_type": "markdown",
   "metadata": {},
   "source": [
    "# Aggregate Variation"
   ]
  },
  {
   "cell_type": "code",
   "execution_count": 1,
   "metadata": {},
   "outputs": [],
   "source": [
    "from ga4gh.vr import models\n",
    "from ga4gh.core import ga4gh_identify, ga4gh_serialize, ga4gh_digest"
   ]
  },
  {
   "cell_type": "markdown",
   "metadata": {},
   "source": [
    "## Setup Sample Alleles"
   ]
  },
  {
   "cell_type": "code",
   "execution_count": 2,
   "metadata": {},
   "outputs": [],
   "source": [
    "a1 = models.Allele(\n",
    "    location=models.SequenceLocation(\n",
    "        sequence_id=\"GA4GH:SQ.01234abcde\",\n",
    "        interval=models.SimpleInterval(start=10, end=11)\n",
    "    ),\n",
    "    state=models.SequenceState(sequence=\"C\")\n",
    ")\n",
    "a2 = models.Allele(\n",
    "    location=models.SequenceLocation(\n",
    "        sequence_id=\"GA4GH:SQ.01234abcde\",\n",
    "        interval=models.SimpleInterval(start=20, end=21)\n",
    "    ),\n",
    "    state=models.SequenceState(sequence=\"C\")\n",
    ")\n",
    "a3 = models.Allele(\n",
    "    location=models.SequenceLocation(\n",
    "        sequence_id=\"GA4GH:SQ.01234abcde\",\n",
    "        interval=models.SimpleInterval(start=30, end=31)\n",
    "    ),\n",
    "    state=models.SequenceState(sequence=\"C\")\n",
    ")"
   ]
  },
  {
   "cell_type": "markdown",
   "metadata": {},
   "source": [
    "## DiscreteVariationSet"
   ]
  },
  {
   "cell_type": "code",
   "execution_count": 3,
   "metadata": {},
   "outputs": [],
   "source": [
    "dvs = models.DiscreteVariationSet(members=[a1,a2,a3]) "
   ]
  },
  {
   "cell_type": "code",
   "execution_count": 4,
   "metadata": {},
   "outputs": [
    {
     "data": {
      "text/plain": [
       "{'members': [{'location': {'interval': {'end': 11,\n",
       "     'start': 10,\n",
       "     'type': 'SimpleInterval'},\n",
       "    'sequence_id': 'GA4GH:SQ.01234abcde',\n",
       "    'type': 'SequenceLocation'},\n",
       "   'state': {'sequence': 'C', 'type': 'SequenceState'},\n",
       "   'type': 'Allele'},\n",
       "  {'location': {'interval': {'end': 21, 'start': 20, 'type': 'SimpleInterval'},\n",
       "    'sequence_id': 'GA4GH:SQ.01234abcde',\n",
       "    'type': 'SequenceLocation'},\n",
       "   'state': {'sequence': 'C', 'type': 'SequenceState'},\n",
       "   'type': 'Allele'},\n",
       "  {'location': {'interval': {'end': 31, 'start': 30, 'type': 'SimpleInterval'},\n",
       "    'sequence_id': 'GA4GH:SQ.01234abcde',\n",
       "    'type': 'SequenceLocation'},\n",
       "   'state': {'sequence': 'C', 'type': 'SequenceState'},\n",
       "   'type': 'Allele'}],\n",
       " 'type': 'DiscreteVariationSet'}"
      ]
     },
     "execution_count": 4,
     "metadata": {},
     "output_type": "execute_result"
    }
   ],
   "source": [
    "dvs.as_dict()"
   ]
  },
  {
   "cell_type": "code",
   "execution_count": 5,
   "metadata": {},
   "outputs": [
    {
     "data": {
      "text/plain": [
       "b'{\"members\":[\"5Rl7J7r03Otb2JiXordEhXzaehpFxw9T\",\"_vL0Ebg2EO2EAEBp_M28-d7Tv7yeLFG5\",\"q4Vjf3bdgSF-cosPhTWZUXFWOSschANK\"],\"type\":\"DiscreteVariationSet\"}'"
      ]
     },
     "execution_count": 5,
     "metadata": {},
     "output_type": "execute_result"
    }
   ],
   "source": [
    "ga4gh_serialize(dvs)"
   ]
  },
  {
   "cell_type": "code",
   "execution_count": 6,
   "metadata": {},
   "outputs": [
    {
     "data": {
      "text/plain": [
       "'ga4gh:DVS.c8NvWrImfJgfb85XW0XCPRSC1j2ehJ4d'"
      ]
     },
     "execution_count": 6,
     "metadata": {},
     "output_type": "execute_result"
    }
   ],
   "source": [
    "ga4gh_identify(dvs)"
   ]
  },
  {
   "cell_type": "code",
   "execution_count": 7,
   "metadata": {},
   "outputs": [],
   "source": [
    "dvs = models.DiscreteVariationSet(members=[a3,a2,a1]) "
   ]
  },
  {
   "cell_type": "code",
   "execution_count": 8,
   "metadata": {},
   "outputs": [
    {
     "data": {
      "text/plain": [
       "'ga4gh:DVS.c8NvWrImfJgfb85XW0XCPRSC1j2ehJ4d'"
      ]
     },
     "execution_count": 8,
     "metadata": {},
     "output_type": "execute_result"
    }
   ],
   "source": [
    "ga4gh_identify(dvs)"
   ]
  },
  {
   "cell_type": "markdown",
   "metadata": {},
   "source": [
    "## Haplotype"
   ]
  },
  {
   "cell_type": "code",
   "execution_count": 9,
   "metadata": {},
   "outputs": [],
   "source": [
    "hap = models.Haplotype(members=[a1,a2,a3])"
   ]
  },
  {
   "cell_type": "code",
   "execution_count": 10,
   "metadata": {},
   "outputs": [
    {
     "data": {
      "text/plain": [
       "{'completeness': 'UNKNOWN',\n",
       " 'members': [{'location': {'interval': {'end': 11,\n",
       "     'start': 10,\n",
       "     'type': 'SimpleInterval'},\n",
       "    'sequence_id': 'GA4GH:SQ.01234abcde',\n",
       "    'type': 'SequenceLocation'},\n",
       "   'state': {'sequence': 'C', 'type': 'SequenceState'},\n",
       "   'type': 'Allele'},\n",
       "  {'location': {'interval': {'end': 21, 'start': 20, 'type': 'SimpleInterval'},\n",
       "    'sequence_id': 'GA4GH:SQ.01234abcde',\n",
       "    'type': 'SequenceLocation'},\n",
       "   'state': {'sequence': 'C', 'type': 'SequenceState'},\n",
       "   'type': 'Allele'},\n",
       "  {'location': {'interval': {'end': 31, 'start': 30, 'type': 'SimpleInterval'},\n",
       "    'sequence_id': 'GA4GH:SQ.01234abcde',\n",
       "    'type': 'SequenceLocation'},\n",
       "   'state': {'sequence': 'C', 'type': 'SequenceState'},\n",
       "   'type': 'Allele'}],\n",
       " 'type': 'Haplotype'}"
      ]
     },
     "execution_count": 10,
     "metadata": {},
     "output_type": "execute_result"
    }
   ],
   "source": [
    "hap.as_dict()"
   ]
  },
  {
   "cell_type": "code",
   "execution_count": 11,
   "metadata": {},
   "outputs": [
    {
     "data": {
      "text/plain": [
       "'ga4gh:VH.eH7q9fjHrBocCxZPR15LtIIzoJcIU5Pw'"
      ]
     },
     "execution_count": 11,
     "metadata": {},
     "output_type": "execute_result"
    }
   ],
   "source": [
    "ga4gh_identify(hap)"
   ]
  },
  {
   "cell_type": "code",
   "execution_count": null,
   "metadata": {},
   "outputs": [],
   "source": []
  }
 ],
 "metadata": {
  "kernelspec": {
   "display_name": "Python 3",
   "language": "python",
   "name": "python3"
  },
  "language_info": {
   "codemirror_mode": {
    "name": "ipython",
    "version": 3
   },
   "file_extension": ".py",
   "mimetype": "text/x-python",
   "name": "python",
   "nbconvert_exporter": "python",
   "pygments_lexer": "ipython3",
   "version": "3.7.5rc1"
  }
 },
 "nbformat": 4,
 "nbformat_minor": 2
}
