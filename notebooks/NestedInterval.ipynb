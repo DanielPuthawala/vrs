{
 "cells": [
  {
   "cell_type": "code",
   "execution_count": 1,
   "metadata": {},
   "outputs": [],
   "source": [
    "from ga4gh.core import ga4gh_identify, ga4gh_serialize\n",
    "from ga4gh.vrs import models\n",
    "from nbsupport import ppo, translate_sequence_identifier"
   ]
  },
  {
   "cell_type": "markdown",
   "metadata": {
    "hidden": true
   },
   "source": [
    "# NestedInterval\n",
    "\n",
    "Converting HGVS expressions to NestedIntervals is tricky. Imagine this sequence with an exon (or any feature) at base positions 4-6 inclusive and sequence DEF.\n",
    "\n",
    "```\n",
    "base:     1   2   3   4   5   6   7   8   9\n",
    "          a   b   c [ D   E   F ] g   h   i\n",
    "i-base:  0  1   2   3   4   5   6   7   8   9\n",
    "\n",
    "```\n",
    "\n",
    "HGVS for the region to the left and right (abc, ghi) would be `(1_3)_(7_9)`, corresponding to interbase ranges (0,3) and (6,9). As a nested interval, the range becomes inner=(3,6) and outer=(0,9)."
   ]
  },
  {
   "cell_type": "code",
   "execution_count": 2,
   "metadata": {
    "hidden": true
   },
   "outputs": [
    {
     "data": {
      "text/plain": [
       "{'inner': {'end': 30, 'start': 20, 'type': 'SimpleInterval'},\n",
       " 'outer': {'end': 40, 'start': 10, 'type': 'SimpleInterval'},\n",
       " 'type': 'NestedInterval'}"
      ]
     },
     "execution_count": 2,
     "metadata": {},
     "output_type": "execute_result"
    }
   ],
   "source": [
    "ni = models.NestedInterval(\n",
    "    inner = models.SimpleInterval(start=20, end=30),\n",
    "    outer = models.SimpleInterval(start=10, end=40))\n",
    "ni.as_dict()"
   ]
  },
  {
   "cell_type": "code",
   "execution_count": 3,
   "metadata": {
    "code_folding": [],
    "hidden": true,
    "scrolled": true
   },
   "outputs": [
    {
     "data": {
      "text/plain": [
       "{'interval': {'inner': {'end': 30, 'start': 20, 'type': 'SimpleInterval'},\n",
       "  'outer': {'end': 40, 'start': 10, 'type': 'SimpleInterval'},\n",
       "  'type': 'NestedInterval'},\n",
       " 'sequence_id': 'ga4gh:SQ.0123abcd',\n",
       " 'type': 'SequenceLocation'}"
      ]
     },
     "execution_count": 3,
     "metadata": {},
     "output_type": "execute_result"
    }
   ],
   "source": [
    "sl = models.SequenceLocation(\n",
    "    sequence_id = \"ga4gh:SQ.0123abcd\",\n",
    "    interval = ni)\n",
    "sl.as_dict()"
   ]
  },
  {
   "cell_type": "code",
   "execution_count": 4,
   "metadata": {
    "hidden": true
   },
   "outputs": [
    {
     "data": {
      "text/plain": [
       "'ga4gh:VSL.GxcMwh-KSt8y0G-97sTM02wI3SzyQSi5'"
      ]
     },
     "execution_count": 4,
     "metadata": {},
     "output_type": "execute_result"
    }
   ],
   "source": [
    "ga4gh_identify(sl)"
   ]
  }
 ],
 "metadata": {
  "kernelspec": {
   "display_name": "Python 3",
   "language": "python",
   "name": "python3"
  },
  "language_info": {
   "codemirror_mode": {
    "name": "ipython",
    "version": 3
   },
   "file_extension": ".py",
   "mimetype": "text/x-python",
   "name": "python",
   "nbconvert_exporter": "python",
   "pygments_lexer": "ipython3",
   "version": "3.8.5"
  },
  "toc": {
   "base_numbering": 1,
   "nav_menu": {},
   "number_sections": false,
   "sideBar": true,
   "skip_h1_title": false,
   "title_cell": "Table of Contents",
   "title_sidebar": "Contents",
   "toc_cell": false,
   "toc_position": {
    "height": "calc(100% - 180px)",
    "left": "10px",
    "top": "150px",
    "width": "241.594px"
   },
   "toc_section_display": true,
   "toc_window_display": true
  },
  "varInspector": {
   "cols": {
    "lenName": 16,
    "lenType": 16,
    "lenVar": 40
   },
   "kernels_config": {
    "python": {
     "delete_cmd_postfix": "",
     "delete_cmd_prefix": "del ",
     "library": "var_list.py",
     "varRefreshCmd": "print(var_dic_list())"
    },
    "r": {
     "delete_cmd_postfix": ") ",
     "delete_cmd_prefix": "rm(",
     "library": "var_list.r",
     "varRefreshCmd": "cat(var_dic_list()) "
    }
   },
   "position": {
    "height": "198px",
    "left": "994px",
    "right": "20px",
    "top": "114px",
    "width": "350px"
   },
   "types_to_exclude": [
    "module",
    "function",
    "builtin_function_or_method",
    "instance",
    "_Feature"
   ],
   "window_display": false
  }
 },
 "nbformat": 4,
 "nbformat_minor": 4
}
